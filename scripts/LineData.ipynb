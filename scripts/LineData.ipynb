{
 "cells": [
  {
   "cell_type": "code",
   "execution_count": 1,
   "id": "b44e6d77",
   "metadata": {
    "scrolled": true
   },
   "outputs": [],
   "source": [
    "# !pip install geopandas \n",
    "# !pip install matplotlib\n",
    "# %pip install pygeos\n",
    "# %pip install rtree"
   ]
  },
  {
   "cell_type": "code",
   "execution_count": 1,
   "id": "e4403630",
   "metadata": {},
   "outputs": [],
   "source": [
    "# All the import \n",
    "import numpy as np\n",
    "import pandas as pd"
   ]
  },
  {
   "cell_type": "code",
   "execution_count": 2,
   "id": "6fbd88c4",
   "metadata": {},
   "outputs": [],
   "source": [
    "# read files\n",
    "data = pd.read_csv(\"../data/owid-covid-data.csv\")"
   ]
  },
  {
   "cell_type": "code",
   "execution_count": null,
   "id": "4dcd9e90",
   "metadata": {},
   "outputs": [],
   "source": [
    "# print(data.columns)\n",
    "data.tail()"
   ]
  },
  {
   "cell_type": "code",
   "execution_count": 36,
   "id": "69b65bb7",
   "metadata": {
    "scrolled": true
   },
   "outputs": [
    {
     "name": "stdout",
     "output_type": "stream",
     "text": [
      "<class 'pandas.core.frame.DataFrame'>\n",
      "RangeIndex: 249929 entries, 0 to 249928\n",
      "Data columns (total 67 columns):\n",
      " #   Column                                      Non-Null Count   Dtype  \n",
      "---  ------                                      --------------   -----  \n",
      " 0   iso_code                                    249929 non-null  object \n",
      " 1   continent                                   235891 non-null  object \n",
      " 2   location                                    249929 non-null  object \n",
      " 3   date                                        249929 non-null  object \n",
      " 4   total_cases                                 235632 non-null  float64\n",
      " 5   new_cases                                   235370 non-null  float64\n",
      " 6   new_cases_smoothed                          234166 non-null  float64\n",
      " 7   total_deaths                                216107 non-null  float64\n",
      " 8   new_deaths                                  216038 non-null  float64\n",
      " 9   new_deaths_smoothed                         214852 non-null  float64\n",
      " 10  total_cases_per_million                     234560 non-null  float64\n",
      " 11  new_cases_per_million                       234298 non-null  float64\n",
      " 12  new_cases_smoothed_per_million              233099 non-null  float64\n",
      " 13  total_deaths_per_million                    215048 non-null  float64\n",
      " 14  new_deaths_per_million                      214979 non-null  float64\n",
      " 15  new_deaths_smoothed_per_million             213798 non-null  float64\n",
      " 16  reproduction_rate                           184817 non-null  float64\n",
      " 17  icu_patients                                33596 non-null   float64\n",
      " 18  icu_patients_per_million                    33596 non-null   float64\n",
      " 19  hosp_patients                               36581 non-null   float64\n",
      " 20  hosp_patients_per_million                   36581 non-null   float64\n",
      " 21  weekly_icu_admissions                       8440 non-null    float64\n",
      " 22  weekly_icu_admissions_per_million           8440 non-null    float64\n",
      " 23  weekly_hosp_admissions                      20040 non-null   float64\n",
      " 24  weekly_hosp_admissions_per_million          20040 non-null   float64\n",
      " 25  total_tests                                 79387 non-null   float64\n",
      " 26  new_tests                                   75403 non-null   float64\n",
      " 27  total_tests_per_thousand                    79387 non-null   float64\n",
      " 28  new_tests_per_thousand                      75403 non-null   float64\n",
      " 29  new_tests_smoothed                          103965 non-null  float64\n",
      " 30  new_tests_smoothed_per_thousand             103965 non-null  float64\n",
      " 31  positive_rate                               95927 non-null   float64\n",
      " 32  tests_per_case                              94348 non-null   float64\n",
      " 33  tests_units                                 106788 non-null  object \n",
      " 34  total_vaccinations                          70593 non-null   float64\n",
      " 35  people_vaccinated                           67483 non-null   float64\n",
      " 36  people_fully_vaccinated                     64825 non-null   float64\n",
      " 37  total_boosters                              39514 non-null   float64\n",
      " 38  new_vaccinations                            58545 non-null   float64\n",
      " 39  new_vaccinations_smoothed                   149034 non-null  float64\n",
      " 40  total_vaccinations_per_hundred              70593 non-null   float64\n",
      " 41  people_vaccinated_per_hundred               67483 non-null   float64\n",
      " 42  people_fully_vaccinated_per_hundred         64825 non-null   float64\n",
      " 43  total_boosters_per_hundred                  39514 non-null   float64\n",
      " 44  new_vaccinations_smoothed_per_million       149034 non-null  float64\n",
      " 45  new_people_vaccinated_smoothed              148744 non-null  float64\n",
      " 46  new_people_vaccinated_smoothed_per_hundred  148744 non-null  float64\n",
      " 47  stringency_index                            183748 non-null  float64\n",
      " 48  population_density                          217732 non-null  float64\n",
      " 49  median_age                                  201396 non-null  float64\n",
      " 50  aged_65_older                               199273 non-null  float64\n",
      " 51  aged_70_older                               200343 non-null  float64\n",
      " 52  gdp_per_capita                              200995 non-null  float64\n",
      " 53  extreme_poverty                             130893 non-null  float64\n",
      " 54  cardiovasc_death_rate                       200812 non-null  float64\n",
      " 55  diabetes_prevalence                         211321 non-null  float64\n",
      " 56  female_smokers                              152235 non-null  float64\n",
      " 57  male_smokers                                150152 non-null  float64\n",
      " 58  handwashing_facilities                      99030 non-null   float64\n",
      " 59  hospital_beds_per_thousand                  178995 non-null  float64\n",
      " 60  life_expectancy                             229274 non-null  float64\n",
      " 61  human_development_index                     196216 non-null  float64\n",
      " 62  population                                  248857 non-null  float64\n",
      " 63  excess_mortality_cumulative_absolute        8240 non-null    float64\n",
      " 64  excess_mortality_cumulative                 8240 non-null    float64\n",
      " 65  excess_mortality                            8279 non-null    float64\n",
      " 66  excess_mortality_cumulative_per_million     8240 non-null    float64\n",
      "dtypes: float64(62), object(5)\n",
      "memory usage: 127.8+ MB\n"
     ]
    }
   ],
   "source": [
    "# Basic information about all the columns of the data\n",
    "data.info()"
   ]
  },
  {
   "cell_type": "code",
   "execution_count": null,
   "id": "9fbd59cd",
   "metadata": {},
   "outputs": [],
   "source": [
    "df = data[data['continent'] == 'Asia'] \n",
    "df['year'] = pd.DatetimeIndex(df['date']).year\n",
    "df['month'] = pd.DatetimeIndex(df['date']).month\n",
    "df['population_million'] = df[\"population\"]/1000000"
   ]
  },
  {
   "cell_type": "code",
   "execution_count": 6,
   "id": "0d32e553",
   "metadata": {
    "scrolled": true
   },
   "outputs": [
    {
     "data": {
      "text/html": [
       "<div>\n",
       "<style scoped>\n",
       "    .dataframe tbody tr th:only-of-type {\n",
       "        vertical-align: middle;\n",
       "    }\n",
       "\n",
       "    .dataframe tbody tr th {\n",
       "        vertical-align: top;\n",
       "    }\n",
       "\n",
       "    .dataframe thead th {\n",
       "        text-align: right;\n",
       "    }\n",
       "</style>\n",
       "<table border=\"1\" class=\"dataframe\">\n",
       "  <thead>\n",
       "    <tr style=\"text-align: right;\">\n",
       "      <th></th>\n",
       "      <th>iso_code</th>\n",
       "      <th>date</th>\n",
       "      <th>location</th>\n",
       "      <th>population</th>\n",
       "      <th>population_million</th>\n",
       "      <th>population_density</th>\n",
       "      <th>month</th>\n",
       "      <th>new_cases</th>\n",
       "      <th>new_cases_per_million</th>\n",
       "      <th>new_cases_smoothed_per_million</th>\n",
       "    </tr>\n",
       "  </thead>\n",
       "  <tbody>\n",
       "    <tr>\n",
       "      <th>0</th>\n",
       "      <td>AFG</td>\n",
       "      <td>2020-02-24</td>\n",
       "      <td>Afghanistan</td>\n",
       "      <td>41128772.0</td>\n",
       "      <td>41.128772</td>\n",
       "      <td>54.422</td>\n",
       "      <td>2</td>\n",
       "      <td>5.0</td>\n",
       "      <td>0.122</td>\n",
       "      <td>NaN</td>\n",
       "    </tr>\n",
       "    <tr>\n",
       "      <th>1</th>\n",
       "      <td>AFG</td>\n",
       "      <td>2020-02-25</td>\n",
       "      <td>Afghanistan</td>\n",
       "      <td>41128772.0</td>\n",
       "      <td>41.128772</td>\n",
       "      <td>54.422</td>\n",
       "      <td>2</td>\n",
       "      <td>0.0</td>\n",
       "      <td>0.000</td>\n",
       "      <td>NaN</td>\n",
       "    </tr>\n",
       "    <tr>\n",
       "      <th>2</th>\n",
       "      <td>AFG</td>\n",
       "      <td>2020-02-26</td>\n",
       "      <td>Afghanistan</td>\n",
       "      <td>41128772.0</td>\n",
       "      <td>41.128772</td>\n",
       "      <td>54.422</td>\n",
       "      <td>2</td>\n",
       "      <td>0.0</td>\n",
       "      <td>0.000</td>\n",
       "      <td>NaN</td>\n",
       "    </tr>\n",
       "    <tr>\n",
       "      <th>3</th>\n",
       "      <td>AFG</td>\n",
       "      <td>2020-02-27</td>\n",
       "      <td>Afghanistan</td>\n",
       "      <td>41128772.0</td>\n",
       "      <td>41.128772</td>\n",
       "      <td>54.422</td>\n",
       "      <td>2</td>\n",
       "      <td>0.0</td>\n",
       "      <td>0.000</td>\n",
       "      <td>NaN</td>\n",
       "    </tr>\n",
       "    <tr>\n",
       "      <th>4</th>\n",
       "      <td>AFG</td>\n",
       "      <td>2020-02-28</td>\n",
       "      <td>Afghanistan</td>\n",
       "      <td>41128772.0</td>\n",
       "      <td>41.128772</td>\n",
       "      <td>54.422</td>\n",
       "      <td>2</td>\n",
       "      <td>0.0</td>\n",
       "      <td>0.000</td>\n",
       "      <td>NaN</td>\n",
       "    </tr>\n",
       "    <tr>\n",
       "      <th>...</th>\n",
       "      <td>...</td>\n",
       "      <td>...</td>\n",
       "      <td>...</td>\n",
       "      <td>...</td>\n",
       "      <td>...</td>\n",
       "      <td>...</td>\n",
       "      <td>...</td>\n",
       "      <td>...</td>\n",
       "      <td>...</td>\n",
       "      <td>...</td>\n",
       "    </tr>\n",
       "    <tr>\n",
       "      <th>247862</th>\n",
       "      <td>YEM</td>\n",
       "      <td>2023-01-09</td>\n",
       "      <td>Yemen</td>\n",
       "      <td>33696612.0</td>\n",
       "      <td>33.696612</td>\n",
       "      <td>53.508</td>\n",
       "      <td>1</td>\n",
       "      <td>0.0</td>\n",
       "      <td>0.000</td>\n",
       "      <td>0.0</td>\n",
       "    </tr>\n",
       "    <tr>\n",
       "      <th>247863</th>\n",
       "      <td>YEM</td>\n",
       "      <td>2023-01-10</td>\n",
       "      <td>Yemen</td>\n",
       "      <td>33696612.0</td>\n",
       "      <td>33.696612</td>\n",
       "      <td>53.508</td>\n",
       "      <td>1</td>\n",
       "      <td>0.0</td>\n",
       "      <td>0.000</td>\n",
       "      <td>0.0</td>\n",
       "    </tr>\n",
       "    <tr>\n",
       "      <th>247864</th>\n",
       "      <td>YEM</td>\n",
       "      <td>2023-01-11</td>\n",
       "      <td>Yemen</td>\n",
       "      <td>33696612.0</td>\n",
       "      <td>33.696612</td>\n",
       "      <td>53.508</td>\n",
       "      <td>1</td>\n",
       "      <td>0.0</td>\n",
       "      <td>0.000</td>\n",
       "      <td>0.0</td>\n",
       "    </tr>\n",
       "    <tr>\n",
       "      <th>247865</th>\n",
       "      <td>YEM</td>\n",
       "      <td>2023-01-12</td>\n",
       "      <td>Yemen</td>\n",
       "      <td>33696612.0</td>\n",
       "      <td>33.696612</td>\n",
       "      <td>53.508</td>\n",
       "      <td>1</td>\n",
       "      <td>0.0</td>\n",
       "      <td>0.000</td>\n",
       "      <td>0.0</td>\n",
       "    </tr>\n",
       "    <tr>\n",
       "      <th>247866</th>\n",
       "      <td>YEM</td>\n",
       "      <td>2023-01-13</td>\n",
       "      <td>Yemen</td>\n",
       "      <td>33696612.0</td>\n",
       "      <td>33.696612</td>\n",
       "      <td>53.508</td>\n",
       "      <td>1</td>\n",
       "      <td>0.0</td>\n",
       "      <td>0.000</td>\n",
       "      <td>0.0</td>\n",
       "    </tr>\n",
       "  </tbody>\n",
       "</table>\n",
       "<p>53116 rows × 10 columns</p>\n",
       "</div>"
      ],
      "text/plain": [
       "       iso_code        date     location  population  population_million  \\\n",
       "0           AFG  2020-02-24  Afghanistan  41128772.0           41.128772   \n",
       "1           AFG  2020-02-25  Afghanistan  41128772.0           41.128772   \n",
       "2           AFG  2020-02-26  Afghanistan  41128772.0           41.128772   \n",
       "3           AFG  2020-02-27  Afghanistan  41128772.0           41.128772   \n",
       "4           AFG  2020-02-28  Afghanistan  41128772.0           41.128772   \n",
       "...         ...         ...          ...         ...                 ...   \n",
       "247862      YEM  2023-01-09        Yemen  33696612.0           33.696612   \n",
       "247863      YEM  2023-01-10        Yemen  33696612.0           33.696612   \n",
       "247864      YEM  2023-01-11        Yemen  33696612.0           33.696612   \n",
       "247865      YEM  2023-01-12        Yemen  33696612.0           33.696612   \n",
       "247866      YEM  2023-01-13        Yemen  33696612.0           33.696612   \n",
       "\n",
       "        population_density  month  new_cases  new_cases_per_million  \\\n",
       "0                   54.422      2        5.0                  0.122   \n",
       "1                   54.422      2        0.0                  0.000   \n",
       "2                   54.422      2        0.0                  0.000   \n",
       "3                   54.422      2        0.0                  0.000   \n",
       "4                   54.422      2        0.0                  0.000   \n",
       "...                    ...    ...        ...                    ...   \n",
       "247862              53.508      1        0.0                  0.000   \n",
       "247863              53.508      1        0.0                  0.000   \n",
       "247864              53.508      1        0.0                  0.000   \n",
       "247865              53.508      1        0.0                  0.000   \n",
       "247866              53.508      1        0.0                  0.000   \n",
       "\n",
       "        new_cases_smoothed_per_million  \n",
       "0                                  NaN  \n",
       "1                                  NaN  \n",
       "2                                  NaN  \n",
       "3                                  NaN  \n",
       "4                                  NaN  \n",
       "...                                ...  \n",
       "247862                             0.0  \n",
       "247863                             0.0  \n",
       "247864                             0.0  \n",
       "247865                             0.0  \n",
       "247866                             0.0  \n",
       "\n",
       "[53116 rows x 10 columns]"
      ]
     },
     "execution_count": 6,
     "metadata": {},
     "output_type": "execute_result"
    }
   ],
   "source": [
    "cases_df = df[[\"iso_code\",\"date\",\"location\",\"population\",\"population_million\",\"population_density\", \"month\",\"new_cases\", \"new_cases_per_million\", \"new_cases_smoothed_per_million\" ]]\n",
    "cases_df"
   ]
  },
  {
   "cell_type": "code",
   "execution_count": null,
   "id": "385afe89",
   "metadata": {},
   "outputs": [],
   "source": [
    "deaths_df = df[[\"iso_code\",\"date\",\"location\",\"population\",\"population_million\",\"population_density\", \"month\",\"new_deaths\", \"new_deaths_per_million\", \"new_deaths_smoothed_per_million\" ]]\n",
    "deaths_df"
   ]
  },
  {
   "cell_type": "code",
   "execution_count": 52,
   "id": "4033e112",
   "metadata": {
    "scrolled": true
   },
   "outputs": [
    {
     "data": {
      "text/plain": [
       "(53116, 4)"
      ]
     },
     "execution_count": 52,
     "metadata": {},
     "output_type": "execute_result"
    }
   ],
   "source": [
    "unique_lpd_val = cases_df[[\"location\", \"population\", \"population_million\",\"population_density\"]]\n",
    "unique_lpd_val.shape"
   ]
  },
  {
   "cell_type": "code",
   "execution_count": 53,
   "id": "70cf91fc",
   "metadata": {},
   "outputs": [],
   "source": [
    "unique_lpd =  unique_lpd_val.drop_duplicates().reset_index()\n",
    "#unique_lpd[unique_lpd[\"population_density\"].isna()]"
   ]
  },
  {
   "cell_type": "code",
   "execution_count": 40,
   "id": "5a81dd52",
   "metadata": {
    "scrolled": true
   },
   "outputs": [
    {
     "name": "stderr",
     "output_type": "stream",
     "text": [
      "C:\\Users\\dell\\AppData\\Local\\Temp\\ipykernel_8964\\1770985040.py:1: FutureWarning: Indexing with multiple keys (implicitly converted to a tuple of keys) will be deprecated, use a list instead.\n",
      "  dff = df.groupby(by=\"location\")[\"date\",\"location\", \"new_cases\", \"new_deaths\"].head()\n"
     ]
    },
    {
     "ename": "TypeError",
     "evalue": "Cannot interpret '52' as a data type",
     "output_type": "error",
     "traceback": [
      "\u001b[1;31m---------------------------------------------------------------------------\u001b[0m",
      "\u001b[1;31mTypeError\u001b[0m                                 Traceback (most recent call last)",
      "\u001b[1;32md:\\Genova\\Classes\\Semester 3\\Final_Poject\\DV\\scripts\\LineData.ipynb Cell 11\u001b[0m in \u001b[0;36m<module>\u001b[1;34m\u001b[0m\n\u001b[0;32m      <a href='vscode-notebook-cell:/d%3A/Genova/Classes/Semester%203/Final_Poject/DV/scripts/LineData.ipynb#X13sZmlsZQ%3D%3D?line=0'>1</a>\u001b[0m dff \u001b[39m=\u001b[39m df\u001b[39m.\u001b[39mgroupby(by\u001b[39m=\u001b[39m\u001b[39m\"\u001b[39m\u001b[39mlocation\u001b[39m\u001b[39m\"\u001b[39m)[\u001b[39m\"\u001b[39m\u001b[39mdate\u001b[39m\u001b[39m\"\u001b[39m,\u001b[39m\"\u001b[39m\u001b[39mlocation\u001b[39m\u001b[39m\"\u001b[39m, \u001b[39m\"\u001b[39m\u001b[39mnew_cases\u001b[39m\u001b[39m\"\u001b[39m, \u001b[39m\"\u001b[39m\u001b[39mnew_deaths\u001b[39m\u001b[39m\"\u001b[39m]\u001b[39m.\u001b[39mhead()\n\u001b[1;32m----> <a href='vscode-notebook-cell:/d%3A/Genova/Classes/Semester%203/Final_Poject/DV/scripts/LineData.ipynb#X13sZmlsZQ%3D%3D?line=1'>2</a>\u001b[0m A \u001b[39m=\u001b[39m np\u001b[39m.\u001b[39;49mzeros(\u001b[39m100\u001b[39;49m,\u001b[39m52\u001b[39;49m)\n\u001b[0;32m      <a href='vscode-notebook-cell:/d%3A/Genova/Classes/Semester%203/Final_Poject/DV/scripts/LineData.ipynb#X13sZmlsZQ%3D%3D?line=2'>3</a>\u001b[0m A\n",
      "\u001b[1;31mTypeError\u001b[0m: Cannot interpret '52' as a data type"
     ]
    }
   ],
   "source": [
    "dff = df.groupby(by=\"location\")[\"date\",\"location\", \"new_cases\", \"new_deaths\"].head()\n",
    "A = np.zeros([100,52])\n",
    "A"
   ]
  },
  {
   "cell_type": "code",
   "execution_count": 31,
   "id": "2d01a42b",
   "metadata": {},
   "outputs": [
    {
     "data": {
      "text/html": [
       "<div>\n",
       "<style scoped>\n",
       "    .dataframe tbody tr th:only-of-type {\n",
       "        vertical-align: middle;\n",
       "    }\n",
       "\n",
       "    .dataframe tbody tr th {\n",
       "        vertical-align: top;\n",
       "    }\n",
       "\n",
       "    .dataframe thead th {\n",
       "        text-align: right;\n",
       "    }\n",
       "</style>\n",
       "<table border=\"1\" class=\"dataframe\">\n",
       "  <thead>\n",
       "    <tr style=\"text-align: right;\">\n",
       "      <th></th>\n",
       "      <th>date</th>\n",
       "      <th>new_cases</th>\n",
       "      <th>new_deaths</th>\n",
       "    </tr>\n",
       "  </thead>\n",
       "  <tbody>\n",
       "    <tr>\n",
       "      <th>0</th>\n",
       "      <td>2020-02-24</td>\n",
       "      <td>5.0</td>\n",
       "      <td>NaN</td>\n",
       "    </tr>\n",
       "    <tr>\n",
       "      <th>1</th>\n",
       "      <td>2020-02-25</td>\n",
       "      <td>0.0</td>\n",
       "      <td>NaN</td>\n",
       "    </tr>\n",
       "    <tr>\n",
       "      <th>2</th>\n",
       "      <td>2020-02-26</td>\n",
       "      <td>0.0</td>\n",
       "      <td>NaN</td>\n",
       "    </tr>\n",
       "    <tr>\n",
       "      <th>3</th>\n",
       "      <td>2020-02-27</td>\n",
       "      <td>0.0</td>\n",
       "      <td>NaN</td>\n",
       "    </tr>\n",
       "    <tr>\n",
       "      <th>4</th>\n",
       "      <td>2020-02-28</td>\n",
       "      <td>0.0</td>\n",
       "      <td>NaN</td>\n",
       "    </tr>\n",
       "    <tr>\n",
       "      <th>...</th>\n",
       "      <td>...</td>\n",
       "      <td>...</td>\n",
       "      <td>...</td>\n",
       "    </tr>\n",
       "    <tr>\n",
       "      <th>246858</th>\n",
       "      <td>2020-04-10</td>\n",
       "      <td>1.0</td>\n",
       "      <td>NaN</td>\n",
       "    </tr>\n",
       "    <tr>\n",
       "      <th>246859</th>\n",
       "      <td>2020-04-11</td>\n",
       "      <td>0.0</td>\n",
       "      <td>NaN</td>\n",
       "    </tr>\n",
       "    <tr>\n",
       "      <th>246860</th>\n",
       "      <td>2020-04-12</td>\n",
       "      <td>0.0</td>\n",
       "      <td>NaN</td>\n",
       "    </tr>\n",
       "    <tr>\n",
       "      <th>246861</th>\n",
       "      <td>2020-04-13</td>\n",
       "      <td>0.0</td>\n",
       "      <td>NaN</td>\n",
       "    </tr>\n",
       "    <tr>\n",
       "      <th>246862</th>\n",
       "      <td>2020-04-14</td>\n",
       "      <td>0.0</td>\n",
       "      <td>NaN</td>\n",
       "    </tr>\n",
       "  </tbody>\n",
       "</table>\n",
       "<p>255 rows × 3 columns</p>\n",
       "</div>"
      ],
      "text/plain": [
       "              date  new_cases  new_deaths\n",
       "0       2020-02-24        5.0         NaN\n",
       "1       2020-02-25        0.0         NaN\n",
       "2       2020-02-26        0.0         NaN\n",
       "3       2020-02-27        0.0         NaN\n",
       "4       2020-02-28        0.0         NaN\n",
       "...            ...        ...         ...\n",
       "246858  2020-04-10        1.0         NaN\n",
       "246859  2020-04-11        0.0         NaN\n",
       "246860  2020-04-12        0.0         NaN\n",
       "246861  2020-04-13        0.0         NaN\n",
       "246862  2020-04-14        0.0         NaN\n",
       "\n",
       "[255 rows x 3 columns]"
      ]
     },
     "execution_count": 31,
     "metadata": {},
     "output_type": "execute_result"
    }
   ],
   "source": [
    "dates_data = dff.head()\n",
    "#dates_data[dates_data[\"new_deaths\"]>10]\n",
    "dates_data "
   ]
  },
  {
   "cell_type": "code",
   "execution_count": null,
   "id": "aad80d27",
   "metadata": {
    "scrolled": true
   },
   "outputs": [],
   "source": [
    "#merge_pop_cases_deaths_sum = dff.merge(uniqe_lpd_val,  left_on='location', right_on='location').drop_duplicates()\n",
    "merge_pop_cases_deaths_sum = pd.merge(dff, unique_lpd, on='location', how='inner').drop(\"index\", axis =1)\n",
    "merge_pop_cases_deaths_sum"
   ]
  },
  {
   "cell_type": "code",
   "execution_count": 56,
   "id": "31e8073f",
   "metadata": {},
   "outputs": [],
   "source": [
    "#to do a fair comparision for number of deaths per population I am thinking of doing per million analysis\n",
    "#merge_pop_cases_deaths_sum[\"new_cases_million\"] = (merge_pop_cases_deaths_sum[\"new_cases\"] /merge_pop_cases_deaths_sum[\"population\"]) * 1000000"
   ]
  },
  {
   "cell_type": "code",
   "execution_count": 125,
   "id": "2511f044",
   "metadata": {},
   "outputs": [],
   "source": [
    "sankey_data = merge_pop_cases_deaths_sum[[\"location\", \"new_cases_per_million\", \"new_deaths_per_million\"]].sort_values(by=\"new_cases_per_million\", ascending=False).reset_index().drop(\"index\", axis=1)"
   ]
  },
  {
   "cell_type": "code",
   "execution_count": 127,
   "id": "79650d71",
   "metadata": {},
   "outputs": [],
   "source": [
    "sankey_data = sankey_data.loc[(sankey_data[\"new_cases_per_million\"] > 0) & (sankey_data[\"new_deaths_per_million\"] > 0)]\n"
   ]
  },
  {
   "cell_type": "code",
   "execution_count": null,
   "id": "1b0d152e",
   "metadata": {
    "scrolled": true
   },
   "outputs": [],
   "source": [
    "sankey_data"
   ]
  },
  {
   "cell_type": "code",
   "execution_count": 30,
   "id": "6b3b7230",
   "metadata": {},
   "outputs": [],
   "source": [
    "# data_for_top_six.to_csv (r'E:\\Documents\\GitHub\\Data-Visualization\\data\\scatter_plot_data.csv', index = False, header=True)"
   ]
  },
  {
   "cell_type": "code",
   "execution_count": 129,
   "id": "ef519114",
   "metadata": {},
   "outputs": [],
   "source": [
    "def make_json(data):\n",
    "#     print(data)\n",
    "\n",
    "    def get_nodeval(val, dList):\n",
    "        for index in range(len(dList)):\n",
    "            for value in dList[index].values():\n",
    "                if val == value:\n",
    "                    return(dList[index]['node'])\n",
    "        return\n",
    "    \n",
    "    def adduniquenode(graph, name):\n",
    "        if not any(d['name'] == name for d in graph['nodes']):\n",
    "            graph['nodes'].append({ 'node': len(graph['nodes']), 'name': name })\n",
    "            \n",
    "    def adduniquelink(data, graph, node, valueof ):\n",
    "        if valueof == \"new_cases_per_million\":\n",
    "            for index, row in data.iterrows():\n",
    "                graph['links'].append({\"source\" : get_nodeval(valueof, graph['nodes']),\n",
    "                              \"target\" : get_nodeval(row['location'], graph['nodes']),\n",
    "                              \"value\" : row[valueof]                       \n",
    "                             })\n",
    "        else:\n",
    "            for index, row in data.iterrows():\n",
    "                graph['links'].append({\"source\" : get_nodeval(row['location'], graph['nodes'] ),\n",
    "                              \"target\" : get_nodeval(valueof, graph['nodes']),\n",
    "                              \"value\" : row[valueof]                       \n",
    "                             })\n",
    "            \n",
    "#         print(graph['nodes'])   \n",
    "\n",
    "    \n",
    "    graph = {\"nodes\" : [], \"links\" : []}\n",
    "#     print(graph['nodes'].push())\n",
    "    keys = data.columns[1:]\n",
    "    print(data.columns)\n",
    "    adduniquenode(graph, keys[0])\n",
    "    adduniquenode(graph, keys[1])\n",
    "    for i in range(data.shape[0]):\n",
    "#         graph['nodes'].push()\n",
    "        adduniquenode(graph, data.loc[i].location)\n",
    "#     print(graph['nodes'])\n",
    "\n",
    "    adduniquelink(data, graph, 0, 'new_cases_per_million')\n",
    "    adduniquelink(data, graph, 1, 'new_deaths_per_million')\n",
    "#     print(graph['links'])\n",
    "    \n",
    "    return graph"
   ]
  },
  {
   "cell_type": "code",
   "execution_count": 91,
   "id": "b0ce90df",
   "metadata": {},
   "outputs": [],
   "source": [
    "# To display complete values of the coulmns \n",
    "# with pd.option_context('display.max_colwidth', None, 'display.max_rows', None): display(polydata)"
   ]
  },
  {
   "cell_type": "code",
   "execution_count": 132,
   "id": "dacac070",
   "metadata": {
    "scrolled": false
   },
   "outputs": [
    {
     "name": "stdout",
     "output_type": "stream",
     "text": [
      "Index(['location', 'new_cases_per_million', 'new_deaths_per_million'], dtype='object')\n"
     ]
    }
   ],
   "source": [
    "json_string = make_json(sankey_data)"
   ]
  },
  {
   "cell_type": "code",
   "execution_count": null,
   "id": "77c720c4",
   "metadata": {
    "scrolled": true
   },
   "outputs": [],
   "source": [
    "json_string"
   ]
  },
  {
   "cell_type": "code",
   "execution_count": null,
   "id": "2ad8ec07",
   "metadata": {},
   "outputs": [],
   "source": [
    "''''dList = [{'node':0, 'a': 3}, {'node':1, 'a': 4}, {'node':2, 'a': 5}]\n",
    "val = 3\n",
    "for index in range(len(dList)):\n",
    "    for value in dList[index].values():\n",
    "        if val == value:\n",
    "            print(dList[index]['node'])\n",
    "#         print(dList[index][key])'''"
   ]
  },
  {
   "cell_type": "code",
   "execution_count": 101,
   "id": "e252d231",
   "metadata": {},
   "outputs": [],
   "source": [
    "#sankey_data.to_csv(\"..\\data\\sankey_data.csv\",index=False,header=True)"
   ]
  },
  {
   "cell_type": "code",
   "execution_count": 134,
   "id": "67c3d40d",
   "metadata": {},
   "outputs": [],
   "source": [
    "import json"
   ]
  },
  {
   "cell_type": "code",
   "execution_count": 135,
   "id": "fa072e76",
   "metadata": {},
   "outputs": [],
   "source": [
    "# Directly from dictionary\n",
    "with open('../data/sankey_data.json', 'w') as outfile:\n",
    "    json.dump(json_string, outfile)"
   ]
  }
 ],
 "metadata": {
  "kernelspec": {
   "display_name": "Python 3 (ipykernel)",
   "language": "python",
   "name": "python3"
  },
  "language_info": {
   "codemirror_mode": {
    "name": "ipython",
    "version": 3
   },
   "file_extension": ".py",
   "mimetype": "text/x-python",
   "name": "python",
   "nbconvert_exporter": "python",
   "pygments_lexer": "ipython3",
   "version": "3.10.1"
  },
  "vscode": {
   "interpreter": {
    "hash": "c7af7df4901773a0e355da496bf365ae011b1b331a57bbc9908dae1ee21823d7"
   }
  }
 },
 "nbformat": 4,
 "nbformat_minor": 5
}
