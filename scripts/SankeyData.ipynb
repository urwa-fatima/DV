{
 "cells": [
  {
   "cell_type": "code",
   "execution_count": 1,
   "id": "b44e6d77",
   "metadata": {
    "scrolled": true
   },
   "outputs": [],
   "source": [
    "# !pip install geopandas \n",
    "# !pip install matplotlib\n",
    "# %pip install pygeos\n",
    "# %pip install rtree"
   ]
  },
  {
   "cell_type": "code",
   "execution_count": 46,
   "id": "e4403630",
   "metadata": {},
   "outputs": [],
   "source": [
    "# All the import \n",
    "import numpy as np\n",
    "import pandas as pd"
   ]
  },
  {
   "cell_type": "code",
   "execution_count": 47,
   "id": "6fbd88c4",
   "metadata": {},
   "outputs": [],
   "source": [
    "# read files\n",
    "data = pd.read_csv(\"../data/owid-covid-data.csv\")"
   ]
  },
  {
   "cell_type": "code",
   "execution_count": null,
   "id": "4dcd9e90",
   "metadata": {},
   "outputs": [],
   "source": [
    "# print(data.columns)\n",
    "data.tail()"
   ]
  },
  {
   "cell_type": "code",
   "execution_count": null,
   "id": "69b65bb7",
   "metadata": {
    "scrolled": true
   },
   "outputs": [],
   "source": [
    "# Basic information about all the columns of the data\n",
    "data.info()"
   ]
  },
  {
   "cell_type": "code",
   "execution_count": null,
   "id": "9fbd59cd",
   "metadata": {},
   "outputs": [],
   "source": [
    "df = data[data['continent'] == 'Asia'] \n",
    "df['year'] = pd.DatetimeIndex(df['date']).year\n",
    "df['month'] = pd.DatetimeIndex(df['date']).month\n",
    "df['population_million'] = df[\"population\"]/1000000"
   ]
  },
  {
   "cell_type": "code",
   "execution_count": null,
   "id": "0d32e553",
   "metadata": {
    "scrolled": true
   },
   "outputs": [],
   "source": [
    "cases_df = df[[\"iso_code\", \"location\",\"population\",\"population_million\",\"population_density\",\"year\", \"month\",\"new_cases\", \"new_cases_per_million\", \"new_cases_smoothed_per_million\" ]]\n",
    "cases_df"
   ]
  },
  {
   "cell_type": "code",
   "execution_count": null,
   "id": "385afe89",
   "metadata": {},
   "outputs": [],
   "source": [
    "deaths_df = df[[\"iso_code\", \"location\",\"population\",\"population_million\",\"population_density\",\"year\", \"month\",\"new_deaths\", \"new_deaths_per_million\", \"new_deaths_smoothed_per_million\" ]]\n",
    "deaths_df"
   ]
  },
  {
   "cell_type": "code",
   "execution_count": 52,
   "id": "4033e112",
   "metadata": {
    "scrolled": true
   },
   "outputs": [
    {
     "data": {
      "text/plain": [
       "(53116, 4)"
      ]
     },
     "execution_count": 52,
     "metadata": {},
     "output_type": "execute_result"
    }
   ],
   "source": [
    "unique_lpd_val = cases_df[[\"location\", \"population\", \"population_million\",\"population_density\"]]\n",
    "unique_lpd_val.shape"
   ]
  },
  {
   "cell_type": "code",
   "execution_count": 53,
   "id": "70cf91fc",
   "metadata": {},
   "outputs": [],
   "source": [
    "unique_lpd =  unique_lpd_val.drop_duplicates().reset_index()\n",
    "#unique_lpd[unique_lpd[\"population_density\"].isna()]"
   ]
  },
  {
   "cell_type": "code",
   "execution_count": null,
   "id": "5a81dd52",
   "metadata": {
    "scrolled": true
   },
   "outputs": [],
   "source": [
    "dff = df.groupby(by=[\"location\"])['new_cases','new_cases_per_million', 'new_deaths', 'new_deaths_per_million' ].sum().reset_index()\n",
    "dff"
   ]
  },
  {
   "cell_type": "code",
   "execution_count": null,
   "id": "aad80d27",
   "metadata": {
    "scrolled": true
   },
   "outputs": [],
   "source": [
    "#merge_pop_cases_deaths_sum = dff.merge(uniqe_lpd_val,  left_on='location', right_on='location').drop_duplicates()\n",
    "merge_pop_cases_deaths_sum = pd.merge(dff, unique_lpd, on='location', how='inner').drop(\"index\", axis =1)\n",
    "merge_pop_cases_deaths_sum"
   ]
  },
  {
   "cell_type": "code",
   "execution_count": 56,
   "id": "31e8073f",
   "metadata": {},
   "outputs": [],
   "source": [
    "#to do a fair comparision for number of deaths per population I am thinking of doing per million analysis\n",
    "#merge_pop_cases_deaths_sum[\"new_cases_million\"] = (merge_pop_cases_deaths_sum[\"new_cases\"] /merge_pop_cases_deaths_sum[\"population\"]) * 1000000"
   ]
  },
  {
   "cell_type": "code",
   "execution_count": 125,
   "id": "2511f044",
   "metadata": {},
   "outputs": [],
   "source": [
    "sankey_data = merge_pop_cases_deaths_sum[[\"location\", \"new_cases_per_million\", \"new_deaths_per_million\"]].sort_values(by=\"new_cases_per_million\", ascending=False).reset_index().drop(\"index\", axis=1)"
   ]
  },
  {
   "cell_type": "code",
   "execution_count": 127,
   "id": "79650d71",
   "metadata": {},
   "outputs": [],
   "source": [
    "sankey_data = sankey_data.loc[(sankey_data[\"new_cases_per_million\"] > 0) & (sankey_data[\"new_deaths_per_million\"] > 0)]\n"
   ]
  },
  {
   "cell_type": "code",
   "execution_count": null,
   "id": "1b0d152e",
   "metadata": {
    "scrolled": true
   },
   "outputs": [],
   "source": [
    "sankey_data"
   ]
  },
  {
   "cell_type": "code",
   "execution_count": 30,
   "id": "6b3b7230",
   "metadata": {},
   "outputs": [],
   "source": [
    "# data_for_top_six.to_csv (r'E:\\Documents\\GitHub\\Data-Visualization\\data\\scatter_plot_data.csv', index = False, header=True)"
   ]
  },
  {
   "cell_type": "code",
   "execution_count": 129,
   "id": "ef519114",
   "metadata": {},
   "outputs": [],
   "source": [
    "def make_json(data):\n",
    "#     print(data)\n",
    "\n",
    "    def get_nodeval(val, dList):\n",
    "        for index in range(len(dList)):\n",
    "            for value in dList[index].values():\n",
    "                if val == value:\n",
    "                    return(dList[index]['node'])\n",
    "        return\n",
    "    \n",
    "    def adduniquenode(graph, name):\n",
    "        if not any(d['name'] == name for d in graph['nodes']):\n",
    "            graph['nodes'].append({ 'node': len(graph['nodes']), 'name': name })\n",
    "            \n",
    "    def adduniquelink(data, graph, node, valueof ):\n",
    "        if valueof == \"new_cases_per_million\":\n",
    "            for index, row in data.iterrows():\n",
    "                graph['links'].append({\"source\" : get_nodeval(valueof, graph['nodes']),\n",
    "                              \"target\" : get_nodeval(row['location'], graph['nodes']),\n",
    "                              \"value\" : row[valueof]                       \n",
    "                             })\n",
    "        else:\n",
    "            for index, row in data.iterrows():\n",
    "                graph['links'].append({\"source\" : get_nodeval(row['location'], graph['nodes'] ),\n",
    "                              \"target\" : get_nodeval(valueof, graph['nodes']),\n",
    "                              \"value\" : row[valueof]                       \n",
    "                             })\n",
    "            \n",
    "#         print(graph['nodes'])   \n",
    "\n",
    "    \n",
    "    graph = {\"nodes\" : [], \"links\" : []}\n",
    "#     print(graph['nodes'].push())\n",
    "    keys = data.columns[1:]\n",
    "    print(data.columns)\n",
    "    adduniquenode(graph, keys[0])\n",
    "    adduniquenode(graph, keys[1])\n",
    "    for i in range(data.shape[0]):\n",
    "#         graph['nodes'].push()\n",
    "        adduniquenode(graph, data.loc[i].location)\n",
    "#     print(graph['nodes'])\n",
    "\n",
    "    adduniquelink(data, graph, 0, 'new_cases_per_million')\n",
    "    adduniquelink(data, graph, 1, 'new_deaths_per_million')\n",
    "#     print(graph['links'])\n",
    "    \n",
    "    return graph"
   ]
  },
  {
   "cell_type": "code",
   "execution_count": 91,
   "id": "b0ce90df",
   "metadata": {},
   "outputs": [],
   "source": [
    "# To display complete values of the coulmns \n",
    "# with pd.option_context('display.max_colwidth', None, 'display.max_rows', None): display(polydata)"
   ]
  },
  {
   "cell_type": "code",
   "execution_count": 132,
   "id": "dacac070",
   "metadata": {
    "scrolled": false
   },
   "outputs": [
    {
     "name": "stdout",
     "output_type": "stream",
     "text": [
      "Index(['location', 'new_cases_per_million', 'new_deaths_per_million'], dtype='object')\n"
     ]
    }
   ],
   "source": [
    "json_string = make_json(sankey_data)"
   ]
  },
  {
   "cell_type": "code",
   "execution_count": null,
   "id": "77c720c4",
   "metadata": {
    "scrolled": true
   },
   "outputs": [],
   "source": [
    "json_string"
   ]
  },
  {
   "cell_type": "code",
   "execution_count": null,
   "id": "2ad8ec07",
   "metadata": {},
   "outputs": [],
   "source": [
    "''''dList = [{'node':0, 'a': 3}, {'node':1, 'a': 4}, {'node':2, 'a': 5}]\n",
    "val = 3\n",
    "for index in range(len(dList)):\n",
    "    for value in dList[index].values():\n",
    "        if val == value:\n",
    "            print(dList[index]['node'])\n",
    "#         print(dList[index][key])'''"
   ]
  },
  {
   "cell_type": "code",
   "execution_count": 101,
   "id": "e252d231",
   "metadata": {},
   "outputs": [],
   "source": [
    "#sankey_data.to_csv(\"..\\data\\sankey_data.csv\",index=False,header=True)"
   ]
  },
  {
   "cell_type": "code",
   "execution_count": 134,
   "id": "67c3d40d",
   "metadata": {},
   "outputs": [],
   "source": [
    "import json"
   ]
  },
  {
   "cell_type": "code",
   "execution_count": 135,
   "id": "fa072e76",
   "metadata": {},
   "outputs": [],
   "source": [
    "# Directly from dictionary\n",
    "with open('../data/sankey_data.json', 'w') as outfile:\n",
    "    json.dump(json_string, outfile)"
   ]
  }
 ],
 "metadata": {
  "kernelspec": {
   "display_name": "Python 3 (ipykernel)",
   "language": "python",
   "name": "python3"
  },
  "language_info": {
   "codemirror_mode": {
    "name": "ipython",
    "version": 3
   },
   "file_extension": ".py",
   "mimetype": "text/x-python",
   "name": "python",
   "nbconvert_exporter": "python",
   "pygments_lexer": "ipython3",
   "version": "3.10.1 (tags/v3.10.1:2cd268a, Dec  6 2021, 19:10:37) [MSC v.1929 64 bit (AMD64)]"
  },
  "vscode": {
   "interpreter": {
    "hash": "c7af7df4901773a0e355da496bf365ae011b1b331a57bbc9908dae1ee21823d7"
   }
  }
 },
 "nbformat": 4,
 "nbformat_minor": 5
}
